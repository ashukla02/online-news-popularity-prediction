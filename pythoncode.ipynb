{
 "cells": [
  {
   "cell_type": "code",
   "execution_count": 1,
   "metadata": {
    "collapsed": true
   },
   "outputs": [],
   "source": [
    "import numpy as np\n",
    "import pandas as pd\n",
    "import csv\n",
    "import os\n",
    "np.random.seed(12345)\n",
    "import seaborn as sbn\n",
    "from sklearn import preprocessing\n",
    "from sklearn.metrics import mean_squared_error\n",
    "from sklearn.model_selection import train_test_split\n",
    "from sklearn.metrics import confusion_matrix\n",
    "from sklearn.metrics import accuracy_score\n",
    "from sklearn.linear_model import Ridge,RidgeCV,Lasso,LassoCV\n",
    "from sklearn.model_selection import KFold\n",
    "from sklearn.linear_model import ElasticNetCV\n",
    "from sklearn.model_selection import validation_curve\n",
    "from sklearn.ensemble import RandomForestClassifier\n",
    "from matplotlib import pyplot as plt\n"
   ]
  },
  {
   "cell_type": "code",
   "execution_count": 2,
   "metadata": {
    "collapsed": false
   },
   "outputs": [
    {
     "data": {
      "text/html": [
       "<div>\n",
       "<table border=\"1\" class=\"dataframe\">\n",
       "  <thead>\n",
       "    <tr style=\"text-align: right;\">\n",
       "      <th></th>\n",
       "      <th>url</th>\n",
       "      <th>timedelta</th>\n",
       "      <th>n_tokens_title</th>\n",
       "      <th>n_tokens_content</th>\n",
       "      <th>n_unique_tokens</th>\n",
       "      <th>n_non_stop_words</th>\n",
       "      <th>n_non_stop_unique_tokens</th>\n",
       "      <th>num_hrefs</th>\n",
       "      <th>num_self_hrefs</th>\n",
       "      <th>num_imgs</th>\n",
       "      <th>...</th>\n",
       "      <th>min_positive_polarity</th>\n",
       "      <th>max_positive_polarity</th>\n",
       "      <th>avg_negative_polarity</th>\n",
       "      <th>min_negative_polarity</th>\n",
       "      <th>max_negative_polarity</th>\n",
       "      <th>title_subjectivity</th>\n",
       "      <th>title_sentiment_polarity</th>\n",
       "      <th>abs_title_subjectivity</th>\n",
       "      <th>abs_title_sentiment_polarity</th>\n",
       "      <th>shares</th>\n",
       "    </tr>\n",
       "  </thead>\n",
       "  <tbody>\n",
       "    <tr>\n",
       "      <th>18765</th>\n",
       "      <td>http://mashable.com/2014/01/13/nokia-first-and...</td>\n",
       "      <td>360.0</td>\n",
       "      <td>8.0</td>\n",
       "      <td>810.0</td>\n",
       "      <td>0.455696</td>\n",
       "      <td>1.0</td>\n",
       "      <td>0.62395</td>\n",
       "      <td>16.0</td>\n",
       "      <td>7.0</td>\n",
       "      <td>1.0</td>\n",
       "      <td>...</td>\n",
       "      <td>0.1</td>\n",
       "      <td>0.6</td>\n",
       "      <td>-0.194444</td>\n",
       "      <td>-0.6</td>\n",
       "      <td>-0.05</td>\n",
       "      <td>0.0</td>\n",
       "      <td>0.0</td>\n",
       "      <td>0.5</td>\n",
       "      <td>0.0</td>\n",
       "      <td>919</td>\n",
       "    </tr>\n",
       "  </tbody>\n",
       "</table>\n",
       "<p>1 rows × 61 columns</p>\n",
       "</div>"
      ],
      "text/plain": [
       "                                                     url   timedelta  \\\n",
       "18765  http://mashable.com/2014/01/13/nokia-first-and...       360.0   \n",
       "\n",
       "        n_tokens_title   n_tokens_content   n_unique_tokens  \\\n",
       "18765              8.0              810.0          0.455696   \n",
       "\n",
       "        n_non_stop_words   n_non_stop_unique_tokens   num_hrefs  \\\n",
       "18765                1.0                    0.62395        16.0   \n",
       "\n",
       "        num_self_hrefs   num_imgs   ...      min_positive_polarity  \\\n",
       "18765              7.0        1.0   ...                        0.1   \n",
       "\n",
       "        max_positive_polarity   avg_negative_polarity   min_negative_polarity  \\\n",
       "18765                     0.6               -0.194444                    -0.6   \n",
       "\n",
       "        max_negative_polarity   title_subjectivity   title_sentiment_polarity  \\\n",
       "18765                   -0.05                  0.0                        0.0   \n",
       "\n",
       "        abs_title_subjectivity   abs_title_sentiment_polarity   shares  \n",
       "18765                      0.5                            0.0      919  \n",
       "\n",
       "[1 rows x 61 columns]"
      ]
     },
     "execution_count": 2,
     "metadata": {},
     "output_type": "execute_result"
    }
   ],
   "source": [
    "fulldata = pd.read_csv('/Users/rigel/Course Docs/Fall-2018/MachineLearning/project/dataset/OnlineNewsPopularity/OnlineNewsPopularity.csv') \n",
    "data = fulldata.sample(n=700, random_state = 0)\n",
    "data.to_csv(path_or_buf ='/Users/rigel/Course Docs/Fall-2018/MachineLearning/project/dataset/OnlineNewsPopularity/OnlineNewsPopularitysample.csv' )\n",
    "data.head(1)\n",
    "\n",
    "#print(data.count())\n"
   ]
  },
  {
   "cell_type": "code",
   "execution_count": 3,
   "metadata": {
    "collapsed": false
   },
   "outputs": [],
   "source": [
    "#dropping URL, timedelta\n",
    "data = data.drop(['url',' timedelta'],axis = 1)\n",
    "#type(data)\n",
    "#print (data.info())\n",
    "#data.describe()"
   ]
  },
  {
   "cell_type": "code",
   "execution_count": 4,
   "metadata": {
    "collapsed": false
   },
   "outputs": [],
   "source": [
    "#drop boolean columns and standardize the data\n",
    "\n",
    "# boolean_columns = [\n",
    "#  \" data_channel_is_lifestyle\"                                                    \n",
    "# ,\" data_channel_is_entertainment\"                                               \n",
    "# ,\" data_channel_is_bus\"                                                         \n",
    "# ,\" data_channel_is_socmed\"                                                      \n",
    "# ,\" data_channel_is_tech\"                                                        \n",
    "# ,\" data_channel_is_world\"                                                       \n",
    "# ,\" weekday_is_monday\"                                                           \n",
    "# ,\" weekday_is_tuesday\"                                                          \n",
    "# ,\" weekday_is_wednesday\"                                                        \n",
    "# ,\" weekday_is_thursday\"                                                         \n",
    "# ,\" weekday_is_friday\"                                                           \n",
    "# ,\" weekday_is_saturday\"                                                         \n",
    "# ,\" weekday_is_sunday\"                                                           \n",
    "# ,\" is_weekend\"                                                                           \n",
    "# ]\n",
    "# data_without_boolean=data.drop(labels=boolean_columns,axis=1)\n",
    "std_data = data.copy()\n",
    "#data_without_boolean.columns\n",
    "for column in data.columns:\n",
    "        if column!=' shares':\n",
    "            std_data[column] = preprocessing.scale(data[column])\n",
    "#std_data.info()\n"
   ]
  },
  {
   "cell_type": "code",
   "execution_count": 5,
   "metadata": {
    "collapsed": false
   },
   "outputs": [],
   "source": [
    "def popular(s):\n",
    "    return 1 if s>1400 else 0\n",
    "std_data[' popularity'] = data[' shares'].apply(popular)\n",
    "#print (data.columns)\n",
    "#s = data_without_boolean[' popularity']\n",
    "#print(s.value_counts())\n",
    "#std_data = std_data.drop([' shares'],axis=1)\n",
    "#std_data.describe()\n",
    "#std_data.info()\n",
    "#std_data.describe()\n",
    "\n"
   ]
  },
  {
   "cell_type": "code",
   "execution_count": 6,
   "metadata": {
    "collapsed": false
   },
   "outputs": [
    {
     "data": {
      "text/plain": [
       "array([[<matplotlib.axes._subplots.AxesSubplot object at 0x11bdfd048>,\n",
       "        <matplotlib.axes._subplots.AxesSubplot object at 0x11d0bbbe0>,\n",
       "        <matplotlib.axes._subplots.AxesSubplot object at 0x11d010668>,\n",
       "        <matplotlib.axes._subplots.AxesSubplot object at 0x11cfd96a0>,\n",
       "        <matplotlib.axes._subplots.AxesSubplot object at 0x11cf29208>,\n",
       "        <matplotlib.axes._subplots.AxesSubplot object at 0x11cf29240>,\n",
       "        <matplotlib.axes._subplots.AxesSubplot object at 0x11ce37c88>,\n",
       "        <matplotlib.axes._subplots.AxesSubplot object at 0x11ce195f8>],\n",
       "       [<matplotlib.axes._subplots.AxesSubplot object at 0x11cd53550>,\n",
       "        <matplotlib.axes._subplots.AxesSubplot object at 0x11acfee80>,\n",
       "        <matplotlib.axes._subplots.AxesSubplot object at 0x11be84048>,\n",
       "        <matplotlib.axes._subplots.AxesSubplot object at 0x11bee86a0>,\n",
       "        <matplotlib.axes._subplots.AxesSubplot object at 0x11c853668>,\n",
       "        <matplotlib.axes._subplots.AxesSubplot object at 0x11c8bf0f0>,\n",
       "        <matplotlib.axes._subplots.AxesSubplot object at 0x11c914c88>,\n",
       "        <matplotlib.axes._subplots.AxesSubplot object at 0x11c9827f0>],\n",
       "       [<matplotlib.axes._subplots.AxesSubplot object at 0x11c9da748>,\n",
       "        <matplotlib.axes._subplots.AxesSubplot object at 0x11ca46390>,\n",
       "        <matplotlib.axes._subplots.AxesSubplot object at 0x11c8f2898>,\n",
       "        <matplotlib.axes._subplots.AxesSubplot object at 0x11caf1320>,\n",
       "        <matplotlib.axes._subplots.AxesSubplot object at 0x11cb5c278>,\n",
       "        <matplotlib.axes._subplots.AxesSubplot object at 0x11cbb6198>,\n",
       "        <matplotlib.axes._subplots.AxesSubplot object at 0x11cc226a0>,\n",
       "        <matplotlib.axes._subplots.AxesSubplot object at 0x11cc72668>],\n",
       "       [<matplotlib.axes._subplots.AxesSubplot object at 0x11ccd4f98>,\n",
       "        <matplotlib.axes._subplots.AxesSubplot object at 0x11cd34048>,\n",
       "        <matplotlib.axes._subplots.AxesSubplot object at 0x11d1e45c0>,\n",
       "        <matplotlib.axes._subplots.AxesSubplot object at 0x11d242668>,\n",
       "        <matplotlib.axes._subplots.AxesSubplot object at 0x11d2a6fd0>,\n",
       "        <matplotlib.axes._subplots.AxesSubplot object at 0x11e7569b0>,\n",
       "        <matplotlib.axes._subplots.AxesSubplot object at 0x11e7c1518>,\n",
       "        <matplotlib.axes._subplots.AxesSubplot object at 0x11e81c470>],\n",
       "       [<matplotlib.axes._subplots.AxesSubplot object at 0x11e8860b8>,\n",
       "        <matplotlib.axes._subplots.AxesSubplot object at 0x11e8cfef0>,\n",
       "        <matplotlib.axes._subplots.AxesSubplot object at 0x11e941a58>,\n",
       "        <matplotlib.axes._subplots.AxesSubplot object at 0x11e95e1d0>,\n",
       "        <matplotlib.axes._subplots.AxesSubplot object at 0x11ea04518>,\n",
       "        <matplotlib.axes._subplots.AxesSubplot object at 0x11ea69e48>,\n",
       "        <matplotlib.axes._subplots.AxesSubplot object at 0x11eac0da0>,\n",
       "        <matplotlib.axes._subplots.AxesSubplot object at 0x11eb2e630>],\n",
       "       [<matplotlib.axes._subplots.AxesSubplot object at 0x11eb84898>,\n",
       "        <matplotlib.axes._subplots.AxesSubplot object at 0x11ebeae10>,\n",
       "        <matplotlib.axes._subplots.AxesSubplot object at 0x11ec2f6a0>,\n",
       "        <matplotlib.axes._subplots.AxesSubplot object at 0x11ec9a400>,\n",
       "        <matplotlib.axes._subplots.AxesSubplot object at 0x11ecf2160>,\n",
       "        <matplotlib.axes._subplots.AxesSubplot object at 0x11ed56d68>,\n",
       "        <matplotlib.axes._subplots.AxesSubplot object at 0x11eda8be0>,\n",
       "        <matplotlib.axes._subplots.AxesSubplot object at 0x11ee1a748>],\n",
       "       [<matplotlib.axes._subplots.AxesSubplot object at 0x11ee37828>,\n",
       "        <matplotlib.axes._subplots.AxesSubplot object at 0x11eedd208>,\n",
       "        <matplotlib.axes._subplots.AxesSubplot object at 0x11ef41b38>,\n",
       "        <matplotlib.axes._subplots.AxesSubplot object at 0x11ef98a90>,\n",
       "        <matplotlib.axes._subplots.AxesSubplot object at 0x11f006320>,\n",
       "        <matplotlib.axes._subplots.AxesSubplot object at 0x11f05b588>,\n",
       "        <matplotlib.axes._subplots.AxesSubplot object at 0x11f0c0b00>,\n",
       "        <matplotlib.axes._subplots.AxesSubplot object at 0x11f11eba8>],\n",
       "       [<matplotlib.axes._subplots.AxesSubplot object at 0x11f18a550>,\n",
       "        <matplotlib.axes._subplots.AxesSubplot object at 0x11f1e1ef0>,\n",
       "        <matplotlib.axes._subplots.AxesSubplot object at 0x11f24ea58>,\n",
       "        <matplotlib.axes._subplots.AxesSubplot object at 0x11f2a59b0>,\n",
       "        <matplotlib.axes._subplots.AxesSubplot object at 0x11f3125f8>,\n",
       "        <matplotlib.axes._subplots.AxesSubplot object at 0x11f36c470>,\n",
       "        <matplotlib.axes._subplots.AxesSubplot object at 0x11f3cdf98>,\n",
       "        <matplotlib.axes._subplots.AxesSubplot object at 0x11f3dd828>]], dtype=object)"
      ]
     },
     "execution_count": 6,
     "metadata": {},
     "output_type": "execute_result"
    }
   ],
   "source": [
    "std_data.hist(bins=50, figsize= (16,16))\n",
    "#plt.show()"
   ]
  },
  {
   "cell_type": "code",
   "execution_count": 11,
   "metadata": {
    "collapsed": false
   },
   "outputs": [],
   "source": [
    "#generate lambda values\n",
    "alphas = 10**np.linspace(-5,5,100)\n",
    "#np.shape(alphas)\n",
    "#alphas"
   ]
  },
  {
   "cell_type": "markdown",
   "metadata": {},
   "source": [
    "# LASSO with 10 fold CV \n"
   ]
  },
  {
   "cell_type": "code",
   "execution_count": 13,
   "metadata": {
    "collapsed": false
   },
   "outputs": [
    {
     "name": "stdout",
     "output_type": "stream",
     "text": [
      "########################Summary for LASSO with 10 fold CV########################\n",
      "n_learn case is:  2p\n",
      "size is  116\n",
      "All errors are MSE\n",
      "----------------------------------------------------------------------------\n"
     ]
    },
    {
     "ename": "ValueError",
     "evalue": "axis(=-1) out of bounds",
     "output_type": "error",
     "traceback": [
      "\u001b[0;31m---------------------------------------------------------------------------\u001b[0m",
      "\u001b[0;31mValueError\u001b[0m                                Traceback (most recent call last)",
      "\u001b[0;32m<ipython-input-13-9084e93348fe>\u001b[0m in \u001b[0;36m<module>\u001b[0;34m()\u001b[0m\n\u001b[1;32m     18\u001b[0m     \u001b[0mprint\u001b[0m\u001b[0;34m(\u001b[0m\u001b[0;34m'All errors are MSE'\u001b[0m\u001b[0;34m)\u001b[0m\u001b[0;34m\u001b[0m\u001b[0m\n\u001b[1;32m     19\u001b[0m     \u001b[0mprint\u001b[0m\u001b[0;34m(\u001b[0m\u001b[0;34m'-'\u001b[0m\u001b[0;34m*\u001b[0m\u001b[0;36m76\u001b[0m\u001b[0;34m)\u001b[0m\u001b[0;34m\u001b[0m\u001b[0m\n\u001b[0;32m---> 20\u001b[0;31m     \u001b[0mvc_lasso\u001b[0m \u001b[0;34m=\u001b[0m \u001b[0mvalidation_curve\u001b[0m\u001b[0;34m(\u001b[0m\u001b[0mLassoCV\u001b[0m\u001b[0;34m(\u001b[0m\u001b[0;34m)\u001b[0m\u001b[0;34m,\u001b[0m\u001b[0mX_train_set\u001b[0m\u001b[0;34m,\u001b[0m\u001b[0mY_train_set\u001b[0m\u001b[0;34m,\u001b[0m\u001b[0mparam_name\u001b[0m \u001b[0;34m=\u001b[0m \u001b[0;34m\"alphas\"\u001b[0m\u001b[0;34m,\u001b[0m\u001b[0mparam_range\u001b[0m\u001b[0;34m=\u001b[0m\u001b[0mnp\u001b[0m\u001b[0;34m.\u001b[0m\u001b[0mlogspace\u001b[0m\u001b[0;34m(\u001b[0m\u001b[0;34m-\u001b[0m\u001b[0;36m5\u001b[0m\u001b[0;34m,\u001b[0m\u001b[0;36m5\u001b[0m\u001b[0;34m,\u001b[0m\u001b[0;36m100\u001b[0m\u001b[0;34m)\u001b[0m\u001b[0;34m,\u001b[0m\u001b[0mcv\u001b[0m\u001b[0;34m=\u001b[0m\u001b[0;36m10\u001b[0m\u001b[0;34m)\u001b[0m\u001b[0;34m\u001b[0m\u001b[0m\n\u001b[0m\u001b[1;32m     21\u001b[0m     \u001b[0mout\u001b[0m \u001b[0;34m=\u001b[0m \u001b[0mnp\u001b[0m\u001b[0;34m.\u001b[0m\u001b[0masarray\u001b[0m\u001b[0;34m(\u001b[0m\u001b[0mout\u001b[0m\u001b[0;34m)\u001b[0m\u001b[0;34m\u001b[0m\u001b[0m\n\u001b[1;32m     22\u001b[0m \u001b[0;34m\u001b[0m\u001b[0m\n",
      "\u001b[0;32m/Users/rigel/anaconda/lib/python3.6/site-packages/sklearn/model_selection/_validation.py\u001b[0m in \u001b[0;36mvalidation_curve\u001b[0;34m(estimator, X, y, param_name, param_range, groups, cv, scoring, n_jobs, pre_dispatch, verbose)\u001b[0m\n\u001b[1;32m    954\u001b[0m         \u001b[0mestimator\u001b[0m\u001b[0;34m,\u001b[0m \u001b[0mX\u001b[0m\u001b[0;34m,\u001b[0m \u001b[0my\u001b[0m\u001b[0;34m,\u001b[0m \u001b[0mscorer\u001b[0m\u001b[0;34m,\u001b[0m \u001b[0mtrain\u001b[0m\u001b[0;34m,\u001b[0m \u001b[0mtest\u001b[0m\u001b[0;34m,\u001b[0m \u001b[0mverbose\u001b[0m\u001b[0;34m,\u001b[0m\u001b[0;34m\u001b[0m\u001b[0m\n\u001b[1;32m    955\u001b[0m         parameters={param_name: v}, fit_params=None, return_train_score=True)\n\u001b[0;32m--> 956\u001b[0;31m         for train, test in cv_iter for v in param_range)\n\u001b[0m\u001b[1;32m    957\u001b[0m \u001b[0;34m\u001b[0m\u001b[0m\n\u001b[1;32m    958\u001b[0m     \u001b[0mout\u001b[0m \u001b[0;34m=\u001b[0m \u001b[0mnp\u001b[0m\u001b[0;34m.\u001b[0m\u001b[0masarray\u001b[0m\u001b[0;34m(\u001b[0m\u001b[0mout\u001b[0m\u001b[0;34m)\u001b[0m\u001b[0;34m\u001b[0m\u001b[0m\n",
      "\u001b[0;32m/Users/rigel/anaconda/lib/python3.6/site-packages/sklearn/externals/joblib/parallel.py\u001b[0m in \u001b[0;36m__call__\u001b[0;34m(self, iterable)\u001b[0m\n\u001b[1;32m    756\u001b[0m             \u001b[0;31m# was dispatched. In particular this covers the edge\u001b[0m\u001b[0;34m\u001b[0m\u001b[0;34m\u001b[0m\u001b[0m\n\u001b[1;32m    757\u001b[0m             \u001b[0;31m# case of Parallel used with an exhausted iterator.\u001b[0m\u001b[0;34m\u001b[0m\u001b[0;34m\u001b[0m\u001b[0m\n\u001b[0;32m--> 758\u001b[0;31m             \u001b[0;32mwhile\u001b[0m \u001b[0mself\u001b[0m\u001b[0;34m.\u001b[0m\u001b[0mdispatch_one_batch\u001b[0m\u001b[0;34m(\u001b[0m\u001b[0miterator\u001b[0m\u001b[0;34m)\u001b[0m\u001b[0;34m:\u001b[0m\u001b[0;34m\u001b[0m\u001b[0m\n\u001b[0m\u001b[1;32m    759\u001b[0m                 \u001b[0mself\u001b[0m\u001b[0;34m.\u001b[0m\u001b[0m_iterating\u001b[0m \u001b[0;34m=\u001b[0m \u001b[0;32mTrue\u001b[0m\u001b[0;34m\u001b[0m\u001b[0m\n\u001b[1;32m    760\u001b[0m             \u001b[0;32melse\u001b[0m\u001b[0;34m:\u001b[0m\u001b[0;34m\u001b[0m\u001b[0m\n",
      "\u001b[0;32m/Users/rigel/anaconda/lib/python3.6/site-packages/sklearn/externals/joblib/parallel.py\u001b[0m in \u001b[0;36mdispatch_one_batch\u001b[0;34m(self, iterator)\u001b[0m\n\u001b[1;32m    606\u001b[0m                 \u001b[0;32mreturn\u001b[0m \u001b[0;32mFalse\u001b[0m\u001b[0;34m\u001b[0m\u001b[0m\n\u001b[1;32m    607\u001b[0m             \u001b[0;32melse\u001b[0m\u001b[0;34m:\u001b[0m\u001b[0;34m\u001b[0m\u001b[0m\n\u001b[0;32m--> 608\u001b[0;31m                 \u001b[0mself\u001b[0m\u001b[0;34m.\u001b[0m\u001b[0m_dispatch\u001b[0m\u001b[0;34m(\u001b[0m\u001b[0mtasks\u001b[0m\u001b[0;34m)\u001b[0m\u001b[0;34m\u001b[0m\u001b[0m\n\u001b[0m\u001b[1;32m    609\u001b[0m                 \u001b[0;32mreturn\u001b[0m \u001b[0;32mTrue\u001b[0m\u001b[0;34m\u001b[0m\u001b[0m\n\u001b[1;32m    610\u001b[0m \u001b[0;34m\u001b[0m\u001b[0m\n",
      "\u001b[0;32m/Users/rigel/anaconda/lib/python3.6/site-packages/sklearn/externals/joblib/parallel.py\u001b[0m in \u001b[0;36m_dispatch\u001b[0;34m(self, batch)\u001b[0m\n\u001b[1;32m    569\u001b[0m         \u001b[0mdispatch_timestamp\u001b[0m \u001b[0;34m=\u001b[0m \u001b[0mtime\u001b[0m\u001b[0;34m.\u001b[0m\u001b[0mtime\u001b[0m\u001b[0;34m(\u001b[0m\u001b[0;34m)\u001b[0m\u001b[0;34m\u001b[0m\u001b[0m\n\u001b[1;32m    570\u001b[0m         \u001b[0mcb\u001b[0m \u001b[0;34m=\u001b[0m \u001b[0mBatchCompletionCallBack\u001b[0m\u001b[0;34m(\u001b[0m\u001b[0mdispatch_timestamp\u001b[0m\u001b[0;34m,\u001b[0m \u001b[0mlen\u001b[0m\u001b[0;34m(\u001b[0m\u001b[0mbatch\u001b[0m\u001b[0;34m)\u001b[0m\u001b[0;34m,\u001b[0m \u001b[0mself\u001b[0m\u001b[0;34m)\u001b[0m\u001b[0;34m\u001b[0m\u001b[0m\n\u001b[0;32m--> 571\u001b[0;31m         \u001b[0mjob\u001b[0m \u001b[0;34m=\u001b[0m \u001b[0mself\u001b[0m\u001b[0;34m.\u001b[0m\u001b[0m_backend\u001b[0m\u001b[0;34m.\u001b[0m\u001b[0mapply_async\u001b[0m\u001b[0;34m(\u001b[0m\u001b[0mbatch\u001b[0m\u001b[0;34m,\u001b[0m \u001b[0mcallback\u001b[0m\u001b[0;34m=\u001b[0m\u001b[0mcb\u001b[0m\u001b[0;34m)\u001b[0m\u001b[0;34m\u001b[0m\u001b[0m\n\u001b[0m\u001b[1;32m    572\u001b[0m         \u001b[0mself\u001b[0m\u001b[0;34m.\u001b[0m\u001b[0m_jobs\u001b[0m\u001b[0;34m.\u001b[0m\u001b[0mappend\u001b[0m\u001b[0;34m(\u001b[0m\u001b[0mjob\u001b[0m\u001b[0;34m)\u001b[0m\u001b[0;34m\u001b[0m\u001b[0m\n\u001b[1;32m    573\u001b[0m \u001b[0;34m\u001b[0m\u001b[0m\n",
      "\u001b[0;32m/Users/rigel/anaconda/lib/python3.6/site-packages/sklearn/externals/joblib/_parallel_backends.py\u001b[0m in \u001b[0;36mapply_async\u001b[0;34m(self, func, callback)\u001b[0m\n\u001b[1;32m    107\u001b[0m     \u001b[0;32mdef\u001b[0m \u001b[0mapply_async\u001b[0m\u001b[0;34m(\u001b[0m\u001b[0mself\u001b[0m\u001b[0;34m,\u001b[0m \u001b[0mfunc\u001b[0m\u001b[0;34m,\u001b[0m \u001b[0mcallback\u001b[0m\u001b[0;34m=\u001b[0m\u001b[0;32mNone\u001b[0m\u001b[0;34m)\u001b[0m\u001b[0;34m:\u001b[0m\u001b[0;34m\u001b[0m\u001b[0m\n\u001b[1;32m    108\u001b[0m         \u001b[0;34m\"\"\"Schedule a func to be run\"\"\"\u001b[0m\u001b[0;34m\u001b[0m\u001b[0m\n\u001b[0;32m--> 109\u001b[0;31m         \u001b[0mresult\u001b[0m \u001b[0;34m=\u001b[0m \u001b[0mImmediateResult\u001b[0m\u001b[0;34m(\u001b[0m\u001b[0mfunc\u001b[0m\u001b[0;34m)\u001b[0m\u001b[0;34m\u001b[0m\u001b[0m\n\u001b[0m\u001b[1;32m    110\u001b[0m         \u001b[0;32mif\u001b[0m \u001b[0mcallback\u001b[0m\u001b[0;34m:\u001b[0m\u001b[0;34m\u001b[0m\u001b[0m\n\u001b[1;32m    111\u001b[0m             \u001b[0mcallback\u001b[0m\u001b[0;34m(\u001b[0m\u001b[0mresult\u001b[0m\u001b[0;34m)\u001b[0m\u001b[0;34m\u001b[0m\u001b[0m\n",
      "\u001b[0;32m/Users/rigel/anaconda/lib/python3.6/site-packages/sklearn/externals/joblib/_parallel_backends.py\u001b[0m in \u001b[0;36m__init__\u001b[0;34m(self, batch)\u001b[0m\n\u001b[1;32m    324\u001b[0m         \u001b[0;31m# Don't delay the application, to avoid keeping the input\u001b[0m\u001b[0;34m\u001b[0m\u001b[0;34m\u001b[0m\u001b[0m\n\u001b[1;32m    325\u001b[0m         \u001b[0;31m# arguments in memory\u001b[0m\u001b[0;34m\u001b[0m\u001b[0;34m\u001b[0m\u001b[0m\n\u001b[0;32m--> 326\u001b[0;31m         \u001b[0mself\u001b[0m\u001b[0;34m.\u001b[0m\u001b[0mresults\u001b[0m \u001b[0;34m=\u001b[0m \u001b[0mbatch\u001b[0m\u001b[0;34m(\u001b[0m\u001b[0;34m)\u001b[0m\u001b[0;34m\u001b[0m\u001b[0m\n\u001b[0m\u001b[1;32m    327\u001b[0m \u001b[0;34m\u001b[0m\u001b[0m\n\u001b[1;32m    328\u001b[0m     \u001b[0;32mdef\u001b[0m \u001b[0mget\u001b[0m\u001b[0;34m(\u001b[0m\u001b[0mself\u001b[0m\u001b[0;34m)\u001b[0m\u001b[0;34m:\u001b[0m\u001b[0;34m\u001b[0m\u001b[0m\n",
      "\u001b[0;32m/Users/rigel/anaconda/lib/python3.6/site-packages/sklearn/externals/joblib/parallel.py\u001b[0m in \u001b[0;36m__call__\u001b[0;34m(self)\u001b[0m\n\u001b[1;32m    129\u001b[0m \u001b[0;34m\u001b[0m\u001b[0m\n\u001b[1;32m    130\u001b[0m     \u001b[0;32mdef\u001b[0m \u001b[0m__call__\u001b[0m\u001b[0;34m(\u001b[0m\u001b[0mself\u001b[0m\u001b[0;34m)\u001b[0m\u001b[0;34m:\u001b[0m\u001b[0;34m\u001b[0m\u001b[0m\n\u001b[0;32m--> 131\u001b[0;31m         \u001b[0;32mreturn\u001b[0m \u001b[0;34m[\u001b[0m\u001b[0mfunc\u001b[0m\u001b[0;34m(\u001b[0m\u001b[0;34m*\u001b[0m\u001b[0margs\u001b[0m\u001b[0;34m,\u001b[0m \u001b[0;34m**\u001b[0m\u001b[0mkwargs\u001b[0m\u001b[0;34m)\u001b[0m \u001b[0;32mfor\u001b[0m \u001b[0mfunc\u001b[0m\u001b[0;34m,\u001b[0m \u001b[0margs\u001b[0m\u001b[0;34m,\u001b[0m \u001b[0mkwargs\u001b[0m \u001b[0;32min\u001b[0m \u001b[0mself\u001b[0m\u001b[0;34m.\u001b[0m\u001b[0mitems\u001b[0m\u001b[0;34m]\u001b[0m\u001b[0;34m\u001b[0m\u001b[0m\n\u001b[0m\u001b[1;32m    132\u001b[0m \u001b[0;34m\u001b[0m\u001b[0m\n\u001b[1;32m    133\u001b[0m     \u001b[0;32mdef\u001b[0m \u001b[0m__len__\u001b[0m\u001b[0;34m(\u001b[0m\u001b[0mself\u001b[0m\u001b[0;34m)\u001b[0m\u001b[0;34m:\u001b[0m\u001b[0;34m\u001b[0m\u001b[0m\n",
      "\u001b[0;32m/Users/rigel/anaconda/lib/python3.6/site-packages/sklearn/externals/joblib/parallel.py\u001b[0m in \u001b[0;36m<listcomp>\u001b[0;34m(.0)\u001b[0m\n\u001b[1;32m    129\u001b[0m \u001b[0;34m\u001b[0m\u001b[0m\n\u001b[1;32m    130\u001b[0m     \u001b[0;32mdef\u001b[0m \u001b[0m__call__\u001b[0m\u001b[0;34m(\u001b[0m\u001b[0mself\u001b[0m\u001b[0;34m)\u001b[0m\u001b[0;34m:\u001b[0m\u001b[0;34m\u001b[0m\u001b[0m\n\u001b[0;32m--> 131\u001b[0;31m         \u001b[0;32mreturn\u001b[0m \u001b[0;34m[\u001b[0m\u001b[0mfunc\u001b[0m\u001b[0;34m(\u001b[0m\u001b[0;34m*\u001b[0m\u001b[0margs\u001b[0m\u001b[0;34m,\u001b[0m \u001b[0;34m**\u001b[0m\u001b[0mkwargs\u001b[0m\u001b[0;34m)\u001b[0m \u001b[0;32mfor\u001b[0m \u001b[0mfunc\u001b[0m\u001b[0;34m,\u001b[0m \u001b[0margs\u001b[0m\u001b[0;34m,\u001b[0m \u001b[0mkwargs\u001b[0m \u001b[0;32min\u001b[0m \u001b[0mself\u001b[0m\u001b[0;34m.\u001b[0m\u001b[0mitems\u001b[0m\u001b[0;34m]\u001b[0m\u001b[0;34m\u001b[0m\u001b[0m\n\u001b[0m\u001b[1;32m    132\u001b[0m \u001b[0;34m\u001b[0m\u001b[0m\n\u001b[1;32m    133\u001b[0m     \u001b[0;32mdef\u001b[0m \u001b[0m__len__\u001b[0m\u001b[0;34m(\u001b[0m\u001b[0mself\u001b[0m\u001b[0;34m)\u001b[0m\u001b[0;34m:\u001b[0m\u001b[0;34m\u001b[0m\u001b[0m\n",
      "\u001b[0;32m/Users/rigel/anaconda/lib/python3.6/site-packages/sklearn/model_selection/_validation.py\u001b[0m in \u001b[0;36m_fit_and_score\u001b[0;34m(estimator, X, y, scorer, train, test, verbose, parameters, fit_params, return_train_score, return_parameters, return_n_test_samples, return_times, error_score)\u001b[0m\n\u001b[1;32m    236\u001b[0m             \u001b[0mestimator\u001b[0m\u001b[0;34m.\u001b[0m\u001b[0mfit\u001b[0m\u001b[0;34m(\u001b[0m\u001b[0mX_train\u001b[0m\u001b[0;34m,\u001b[0m \u001b[0;34m**\u001b[0m\u001b[0mfit_params\u001b[0m\u001b[0;34m)\u001b[0m\u001b[0;34m\u001b[0m\u001b[0m\n\u001b[1;32m    237\u001b[0m         \u001b[0;32melse\u001b[0m\u001b[0;34m:\u001b[0m\u001b[0;34m\u001b[0m\u001b[0m\n\u001b[0;32m--> 238\u001b[0;31m             \u001b[0mestimator\u001b[0m\u001b[0;34m.\u001b[0m\u001b[0mfit\u001b[0m\u001b[0;34m(\u001b[0m\u001b[0mX_train\u001b[0m\u001b[0;34m,\u001b[0m \u001b[0my_train\u001b[0m\u001b[0;34m,\u001b[0m \u001b[0;34m**\u001b[0m\u001b[0mfit_params\u001b[0m\u001b[0;34m)\u001b[0m\u001b[0;34m\u001b[0m\u001b[0m\n\u001b[0m\u001b[1;32m    239\u001b[0m \u001b[0;34m\u001b[0m\u001b[0m\n\u001b[1;32m    240\u001b[0m     \u001b[0;32mexcept\u001b[0m \u001b[0mException\u001b[0m \u001b[0;32mas\u001b[0m \u001b[0me\u001b[0m\u001b[0;34m:\u001b[0m\u001b[0;34m\u001b[0m\u001b[0m\n",
      "\u001b[0;32m/Users/rigel/anaconda/lib/python3.6/site-packages/sklearn/linear_model/coordinate_descent.py\u001b[0m in \u001b[0;36mfit\u001b[0;34m(self, X, y)\u001b[0m\n\u001b[1;32m   1150\u001b[0m         \u001b[0;32melse\u001b[0m\u001b[0;34m:\u001b[0m\u001b[0;34m\u001b[0m\u001b[0m\n\u001b[1;32m   1151\u001b[0m             \u001b[0;31m# Making sure alphas is properly ordered.\u001b[0m\u001b[0;34m\u001b[0m\u001b[0;34m\u001b[0m\u001b[0m\n\u001b[0;32m-> 1152\u001b[0;31m             \u001b[0malphas\u001b[0m \u001b[0;34m=\u001b[0m \u001b[0mnp\u001b[0m\u001b[0;34m.\u001b[0m\u001b[0mtile\u001b[0m\u001b[0;34m(\u001b[0m\u001b[0mnp\u001b[0m\u001b[0;34m.\u001b[0m\u001b[0msort\u001b[0m\u001b[0;34m(\u001b[0m\u001b[0malphas\u001b[0m\u001b[0;34m)\u001b[0m\u001b[0;34m[\u001b[0m\u001b[0;34m:\u001b[0m\u001b[0;34m:\u001b[0m\u001b[0;34m-\u001b[0m\u001b[0;36m1\u001b[0m\u001b[0;34m]\u001b[0m\u001b[0;34m,\u001b[0m \u001b[0;34m(\u001b[0m\u001b[0mn_l1_ratio\u001b[0m\u001b[0;34m,\u001b[0m \u001b[0;36m1\u001b[0m\u001b[0;34m)\u001b[0m\u001b[0;34m)\u001b[0m\u001b[0;34m\u001b[0m\u001b[0m\n\u001b[0m\u001b[1;32m   1153\u001b[0m         \u001b[0;31m# We want n_alphas to be the number of alphas used for each l1_ratio.\u001b[0m\u001b[0;34m\u001b[0m\u001b[0;34m\u001b[0m\u001b[0m\n\u001b[1;32m   1154\u001b[0m         \u001b[0mn_alphas\u001b[0m \u001b[0;34m=\u001b[0m \u001b[0mlen\u001b[0m\u001b[0;34m(\u001b[0m\u001b[0malphas\u001b[0m\u001b[0;34m[\u001b[0m\u001b[0;36m0\u001b[0m\u001b[0;34m]\u001b[0m\u001b[0;34m)\u001b[0m\u001b[0;34m\u001b[0m\u001b[0m\n",
      "\u001b[0;32m/Users/rigel/anaconda/lib/python3.6/site-packages/numpy/core/fromnumeric.py\u001b[0m in \u001b[0;36msort\u001b[0;34m(a, axis, kind, order)\u001b[0m\n\u001b[1;32m    822\u001b[0m     \u001b[0;32melse\u001b[0m\u001b[0;34m:\u001b[0m\u001b[0;34m\u001b[0m\u001b[0m\n\u001b[1;32m    823\u001b[0m         \u001b[0ma\u001b[0m \u001b[0;34m=\u001b[0m \u001b[0masanyarray\u001b[0m\u001b[0;34m(\u001b[0m\u001b[0ma\u001b[0m\u001b[0;34m)\u001b[0m\u001b[0;34m.\u001b[0m\u001b[0mcopy\u001b[0m\u001b[0;34m(\u001b[0m\u001b[0morder\u001b[0m\u001b[0;34m=\u001b[0m\u001b[0;34m\"K\"\u001b[0m\u001b[0;34m)\u001b[0m\u001b[0;34m\u001b[0m\u001b[0m\n\u001b[0;32m--> 824\u001b[0;31m     \u001b[0ma\u001b[0m\u001b[0;34m.\u001b[0m\u001b[0msort\u001b[0m\u001b[0;34m(\u001b[0m\u001b[0maxis\u001b[0m\u001b[0;34m,\u001b[0m \u001b[0mkind\u001b[0m\u001b[0;34m,\u001b[0m \u001b[0morder\u001b[0m\u001b[0;34m)\u001b[0m\u001b[0;34m\u001b[0m\u001b[0m\n\u001b[0m\u001b[1;32m    825\u001b[0m     \u001b[0;32mreturn\u001b[0m \u001b[0ma\u001b[0m\u001b[0;34m\u001b[0m\u001b[0m\n\u001b[1;32m    826\u001b[0m \u001b[0;34m\u001b[0m\u001b[0m\n",
      "\u001b[0;31mValueError\u001b[0m: axis(=-1) out of bounds"
     ]
    }
   ],
   "source": [
    "print(\"########################Summary for LASSO with 10 fold CV########################\")\n",
    "\n",
    "p = (len(std_data.loc[:,:' abs_title_sentiment_polarity'].columns))\n",
    "n_learn = {'2p': 2*p, '10p': 10*p}\n",
    "n_total = len(std_data.index)\n",
    "\n",
    "for n_learn_size in n_learn:\n",
    "    print (\"n_learn case is: \", n_learn_size)\n",
    "    size = n_learn[n_learn_size]\n",
    "    print (\"size is \", size) \n",
    "    train_set, test_set = train_test_split(std_data, train_size=1.0*size/n_total, random_state=99)\n",
    "    X_train_set = train_set.loc[:,:' abs_title_sentiment_polarity']\n",
    "    Y_train_set = train_set.loc[:,' popularity']\n",
    "    X_test_set = test_set.loc[:,:' abs_title_sentiment_polarity']\n",
    "    Y_test_set = test_set.loc[:,' popularity']\n",
    "    lassocv = LassoCV(alphas = alphas, cv = 10, max_iter = 100000)\n",
    "    lassocv.fit(X_train_set, Y_train_set)\n",
    "    print('All errors are MSE')\n",
    "    print('-'*76)\n",
    "    vc_lasso = validation_curve(LassoCV(),X_train_set,Y_train_set,param_name = \"alphas\",param_range=np.logspace(-5,5,100),cv=10)\n",
    "    out = np.asarray(out)\n",
    "    \n"
   ]
  },
  {
   "cell_type": "markdown",
   "metadata": {},
   "source": [
    "# Logistic Ridge with 10 fold CV"
   ]
  },
  {
   "cell_type": "code",
   "execution_count": null,
   "metadata": {
    "collapsed": false
   },
   "outputs": [],
   "source": [
    "print(\"########################Summary for Logistic Ridge with 10 fold CV########################\")\n",
    "p = (len(std_data.loc[:,:' abs_title_sentiment_polarity'].columns))\n",
    "n_learn = {'2p': 2*p, '10p': 10*p}\n",
    "n_total = len(std_data.index)\n",
    "\n",
    "for n_learn_size in n_learn:\n",
    "    print (\"n_learn case is: \", n_learn_size)\n",
    "    size = n_learn[n_learn_size]\n",
    "    print (\"size is \", size) \n",
    "    train_set, test_set = train_test_split(std_data, train_size=1.0*size/n_total, random_state=99)\n",
    "    X_train_set = train_set.loc[:,:' abs_title_sentiment_polarity']\n",
    "    Y_train_set = train_set.loc[:,' popularity']\n",
    "    X_test_set = test_set.loc[:,:' abs_title_sentiment_polarity']\n",
    "    Y_test_set = test_set.loc[:,' popularity']\n",
    "    ridgecv = RidgeCV(alphas = alphas, cv = 10)\n",
    "    ridgecv.fit(X_train_set, Y_train_set)\n",
    "    print('All errors are MSE')\n",
    "    print('-'*76)\n",
    "    accuracy = accuracy_score(Y_test_set,[1 if prob > 0.5 else 0 for prob in Y_test_predict],normalize=False)\n",
    "    accuracy_rate = (accuracy/(Y_test_set.count()))\n",
    "    print(\"Missclassification error rate for Lasso with 10-fold CV: \" \n",
    "          + str(((1-accuracy_rate)*100))+'%')\n",
    "    print(\"Coefficients:    \"   + \n",
    "          str(pd.Series(ridgecv.coef_, index=X_train_set.columns)))\n",
    "    print(\"Confusion Matrix:   \"+ \n",
    "          str(confusion_matrix(Y_test_set, [1 if prob > 0.5 else 0 for prob in Y_test_predict])))\n",
    "    print('-'*76)\n"
   ]
  },
  {
   "cell_type": "markdown",
   "metadata": {
    "collapsed": true
   },
   "source": [
    "# Elastic net with alpha = 0.5"
   ]
  },
  {
   "cell_type": "code",
   "execution_count": null,
   "metadata": {
    "collapsed": false
   },
   "outputs": [],
   "source": [
    "print(\"########################Summary for Elastic Net with 10 fold CV########################\")\n",
    "p = (len(std_data.loc[:,:' abs_title_sentiment_polarity'].columns))\n",
    "n_learn = {'2p': 2*p, '10p': 10*p}\n",
    "n_total = len(std_data.index)\n",
    "\n",
    "for n_learn_size in n_learn:\n",
    "    print (\"n_learn case is: \", n_learn_size)\n",
    "    size = n_learn[n_learn_size]\n",
    "    print (\"size is \", size) \n",
    "    train_set, test_set = train_test_split(std_data, train_size=1.0*size/n_total, random_state=99)\n",
    "    X_train_set = train_set.loc[:,:' abs_title_sentiment_polarity']\n",
    "    Y_train_set = train_set.loc[:,' popularity']\n",
    "    \n",
    "    X_test_set = test_set.loc[:,:' abs_title_sentiment_polarity']\n",
    "    Y_test_set = test_set.loc[:,' popularity']\n",
    "    elasticnetcv = ElasticNetCV(alphas = alphas, cv = 10, normalize = True,max_iter = 10000)\n",
    "    elasticnetcv.fit(X_train_set, Y_train_set)\n",
    "    print('All errors are MSE')\n",
    "    print('-'*76)\n",
    "    Y_test_predict = elasticnetcv.predict(X_test_set)\n",
    "    elasticnetcv_test_error = mean_squared_error(Y_test_set,Y_test_predict)\n",
    "    elasticnetcv_train_error = mean_squared_error(Y_train_set, elasticnetcv.predict(X_train_set)) \n",
    "    print('alpha: {:7} | train error: {:5} | test error: {}'.\n",
    "            format(round(ridgecv.alpha_,3),\n",
    "                   round(elasticnetcv_train_error,3),\n",
    "                   round(elasticnetcv_test_error,3)))\n",
    "    accuracy = accuracy_score(Y_test_set,[1 if prob > 0.5 else 0 for prob in Y_test_predict],normalize=False)\n",
    "    accuracy_rate = (accuracy/(Y_test_set.count()))\n",
    "    print(\"Missclassification error rate for Elastic Net with 10-fold CV: \" \n",
    "          + str(((1-accuracy_rate)*100))+'%')\n",
    "    print(\"Coefficients:    \"   + \n",
    "          str(pd.Series(elasticnetcv.coef_, index=X_train_set.columns)))\n",
    "    print(\"Confusion Matrix:   \"+ \n",
    "          str(confusion_matrix(Y_test_set, [1 if prob > 0.5 else 0 for prob in Y_test_predict])))\n",
    "    print('-'*76)\n"
   ]
  },
  {
   "cell_type": "markdown",
   "metadata": {},
   "source": [
    "# random forest\n"
   ]
  },
  {
   "cell_type": "code",
   "execution_count": null,
   "metadata": {
    "collapsed": false
   },
   "outputs": [],
   "source": [
    "print(\"#############################Summary for Random Forest#############################\")\n",
    "p = (len(std_data.loc[:,:' abs_title_sentiment_polarity'].columns))\n",
    "n_learn = {'2p': 2*p, '10p': 10*p}\n",
    "n_total = len(std_data.index)\n",
    "\n",
    "for n_learn_size in n_learn:\n",
    "    print (\"n_learn case is: \", n_learn_size)\n",
    "    size = n_learn[n_learn_size]\n",
    "    print (\"size is \", size) \n",
    "    train_set, test_set = train_test_split(std_data, train_size=1.0*size/n_total, random_state=99)\n",
    "    X_train_set = train_set.loc[:,:' abs_title_sentiment_polarity']\n",
    "    Y_train_set = train_set.loc[:,' popularity']\n",
    "    X_test_set = test_set.loc[:,:' abs_title_sentiment_polarity']\n",
    "    Y_test_set = test_set.loc[:,' popularity']\n",
    "    randomforest = RandomForestClassifier(n_estimators = 100,random_state=0)\n",
    "    randomforest.fit(X_train_set, Y_train_set)\n",
    "    #elasticnetcv.alpha_\n",
    "    print('All errors are MSE')\n",
    "    print('-'*76)\n",
    "    \n",
    "    Y_test_predict = randomforest.predict(X_test_set)\n",
    "    print(Y_test_predict)\n",
    "    randomforest_test_error = mean_squared_error(Y_test_set,Y_test_predict)\n",
    "    randomforest_train_error = mean_squared_error(Y_train_set, randomforest.predict(X_train_set)) \n",
    "    print('alpha: {:7} | train error: {:5} | test error: {}'.\n",
    "            format(round(randomforest.alpha_,3),\n",
    "                   round(randomforest_train_error,3),\n",
    "                   round(randomforest_test_error,3)))\n",
    "    accuracy = accuracy_score(Y_test_set,[1 if prob > 0.5 else 0 for prob in Y_test_predict],normalize=False)\n",
    "    accuracy_rate = (accuracy/(Y_test_set.count()))\n",
    "    print(\"Missclassification error rate for Random Forest: \" \n",
    "          + str(((1-accuracy_rate)*100))+'%')\n",
    "#    print(\"Fitted Estimators :    \", randomforest.estimators_)\n",
    "    print(\"Confusion Matrix:   \"+ \n",
    "          str(confusion_matrix(Y_test_set, [1 if prob > 0.5 else 0 for prob in Y_test_predict])))\n",
    "    print('-'*76)\n"
   ]
  },
  {
   "cell_type": "code",
   "execution_count": null,
   "metadata": {
    "collapsed": true
   },
   "outputs": [],
   "source": []
  }
 ],
 "metadata": {
  "kernelspec": {
   "display_name": "Python 3",
   "language": "python",
   "name": "python3"
  },
  "language_info": {
   "codemirror_mode": {
    "name": "ipython",
    "version": 3
   },
   "file_extension": ".py",
   "mimetype": "text/x-python",
   "name": "python",
   "nbconvert_exporter": "python",
   "pygments_lexer": "ipython3",
   "version": "3.6.0"
  }
 },
 "nbformat": 4,
 "nbformat_minor": 2
}
